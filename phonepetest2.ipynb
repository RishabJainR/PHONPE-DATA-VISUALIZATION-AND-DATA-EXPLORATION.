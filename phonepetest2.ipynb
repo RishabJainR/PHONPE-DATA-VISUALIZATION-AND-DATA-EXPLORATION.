{
 "cells": [
  {
   "cell_type": "code",
   "execution_count": null,
   "metadata": {},
   "outputs": [],
   "source": [
    "import psycopg2\n",
    "import pandas as pd\n",
    "import plotly.express as px\n",
    "import requests\n",
    "import json\n",
    "\n"
   ]
  },
  {
   "cell_type": "code",
   "execution_count": null,
   "metadata": {},
   "outputs": [],
   "source": [
    "# dataframe creation\n",
    "\n",
    "mydb=psycopg2.connect(host =\"localhost\",\n",
    "                      user=\"postgres\",\n",
    "                      port=\"5432\",\n",
    "                      database=\"phonepe_data\",\n",
    "                      password=\"Rishab@90\")\n",
    "\n",
    "cursor = mydb.cursor()\n",
    "\n",
    "#aggregated insurance dataframe\n",
    "\n",
    "cursor.execute(\"SELECT * FROM aggregated_insurance\")\n",
    "mydb.commit()\n",
    "table1=cursor.fetchall()\n",
    "\n",
    "aggregated_insurance=pd.DataFrame(table1,columns=(\"States\", \"Years\", \"Quarters\", \"Transaction_type\", \"Transaction_count\", \"Transaction_amount\"))\n",
    "\n",
    "#aggregated transaction dataframe\n",
    "\n",
    "cursor.execute(\"SELECT * FROM aggregated_transaction\")\n",
    "mydb.commit()\n",
    "table2=cursor.fetchall()\n",
    "\n",
    "aggregated_transaction=pd.DataFrame(table2,columns=(\"States\", \"Years\", \"Quarters\", \"Transaction_type\", \"Transaction_count\", \"Transaction_amount\"))\n",
    "\n",
    "#aggregated user dataframe\n",
    "\n",
    "cursor.execute(\"SELECT * FROM aggregated_user\")\n",
    "mydb.commit()\n",
    "table3=cursor.fetchall()\n",
    "\n",
    "aggregated_user=pd.DataFrame(table3,columns=(\"States\", \"Years\", \"Quarters\", \"Brands\", \"Transaction_count\", \"Percentage\"))\n",
    "\n",
    "\n",
    "#Map insurance dataframe\n",
    "\n",
    "cursor.execute(\"SELECT * FROM map_insurance\")\n",
    "mydb.commit()\n",
    "table4=cursor.fetchall()\n",
    "\n",
    "map_insurance=pd.DataFrame(table4,columns=(\"States\", \"Years\", \"Quarters\", \"Districts\", \"Transaction_count\", \"Transaction_amount\"))\n",
    "\n",
    "\n",
    "#Map transaction dataframe\n",
    "\n",
    "cursor.execute(\"SELECT * FROM map_transaction\")\n",
    "mydb.commit()\n",
    "table5=cursor.fetchall()\n",
    "\n",
    "map_transaction=pd.DataFrame(table5,columns=(\"States\", \"Years\", \"Quarters\", \"Districts\", \"Transaction_count\", \"Transaction_amount\"))\n",
    "\n",
    "\n",
    "#Map user dataframe\n",
    "\n",
    "cursor.execute(\"SELECT * FROM map_user\")\n",
    "mydb.commit()\n",
    "table6=cursor.fetchall()\n",
    "\n",
    "map_user=pd.DataFrame(table6,columns=(\"States\", \"Years\", \"Quarters\", \"Districts\", \"RegisteredUsers\", \"AppOpens\"))\n",
    "\n",
    "# top insurance dataframe\n",
    "\n",
    "cursor.execute(\"SELECT * FROM top_insurance\")\n",
    "mydb.commit()\n",
    "table7=cursor.fetchall()\n",
    "\n",
    "top_insurance=pd.DataFrame(table7,columns=(\"States\", \"Years\", \"Quarters\", \"Pincodes\", \"Transaction_amount\", \"Transaction_count\"))\n",
    "\n",
    "# top transaction dataframe\n",
    "\n",
    "cursor.execute(\"SELECT * FROM top_transaction\")\n",
    "mydb.commit()\n",
    "table8=cursor.fetchall()\n",
    "\n",
    "top_transaction=pd.DataFrame(table8,columns=(\"States\", \"Years\", \"Quarters\", \"Pincodes\", \"Transaction_amount\", \"Transaction_count\"))\n",
    "\n",
    "# top user dataframe\n",
    "\n",
    "cursor.execute(\"SELECT * FROM top_user\")\n",
    "mydb.commit()\n",
    "table9=cursor.fetchall()\n",
    "\n",
    "top_user=pd.DataFrame(table9,columns=(\"States\", \"Years\", \"Quarters\", \"Pincodes\", \"RegisteredUsers\"))\n",
    "\n",
    "\n",
    "\n",
    "\n",
    "\n",
    "\n"
   ]
  },
  {
   "cell_type": "code",
   "execution_count": 67,
   "metadata": {},
   "outputs": [],
   "source": [
    "# SQL Connection\n",
    "\n",
    "def top_chart_transaction_amount(table_name):\n",
    "\n",
    "    mydb=psycopg2.connect(host =\"localhost\",\n",
    "                        user=\"postgres\",\n",
    "                        port=\"5432\",\n",
    "                        database=\"phonepe_data\",\n",
    "                        password=\"Rishab@90\")\n",
    "\n",
    "    cursor = mydb.cursor()\n",
    "\n",
    "\n",
    "    # PLOT 1\n",
    "    query1=f'''SELECT states, SUM(transaction_amount) AS transaction_amount \n",
    "                FROM {table_name}\n",
    "                GROUP BY states \n",
    "                ORDER BY transaction_amount DESC\n",
    "                LIMIT 10;'''\n",
    "\n",
    "    cursor.execute(query1)\n",
    "    table_1=cursor.fetchall()\n",
    "    mydb.commit()\n",
    "\n",
    "    df_1=pd.DataFrame(table_1, columns=(\"states\",\"transaction_amount\"))\n",
    "\n",
    "    fig_amount_1 = px.bar(df_1, x=\"states\",y=\"transaction_amount\", title=f\"TRANSACTION AMOUNT\", height=650,\n",
    "                            width=600,color_discrete_sequence=px.colors.sequential.Agsunset, hover_name=\"states\")\n",
    "    fig_amount_1.show()\n",
    "\n",
    "\n",
    "\n",
    "    #### PLOT 2\n",
    "\n",
    "    query2=f'''SELECT states, SUM(transaction_amount) AS transaction_amount \n",
    "                FROM {table_name}\n",
    "                GROUP BY states \n",
    "                ORDER BY transaction_amount ASC\n",
    "                LIMIT 10;'''\n",
    "\n",
    "    cursor.execute(query2)\n",
    "    table_2=cursor.fetchall()\n",
    "    mydb.commit()\n",
    "\n",
    "    df_2=pd.DataFrame(table_2, columns=(\"states\",\"transaction_amount\"))\n",
    "\n",
    "    fig_amount_2 = px.bar(df_2, x=\"states\",y=\"transaction_amount\", title=f\"TRANSACTION AMOUNT\", height=650,\n",
    "                            width=600,color_discrete_sequence=px.colors.sequential.Agsunset, hover_name=\"states\")\n",
    "    fig_amount_2.show()\n",
    "\n",
    "    #### plot 3\n",
    "\n",
    "    query3=f'''SELECT states, AVG(transaction_amount) AS transaction_amount \n",
    "                FROM {table_name}\n",
    "                GROUP BY states \n",
    "                ORDER BY transaction_amount;'''\n",
    "\n",
    "    cursor.execute(query3)\n",
    "    table_3=cursor.fetchall()\n",
    "    mydb.commit()\n",
    "\n",
    "    df_3=pd.DataFrame(table_3, columns=(\"states\",\"transaction_amount\"))\n",
    "\n",
    "    fig_amount_3 = px.bar(df_3, y=\"states\",x=\"transaction_amount\", title=f\"AVERAGE TRANSACTION AMOUNT\", height=800,\n",
    "                            width=1000,color_discrete_sequence=px.colors.sequential.Blues_r, hover_name=\"states\",\n",
    "                            orientation=\"h\")\n",
    "    fig_amount_3.show()\n",
    "\n",
    "\n",
    "    ###\n",
    "\n",
    "\n",
    "\n",
    "\n",
    "\n",
    "\n",
    "\n"
   ]
  },
  {
   "cell_type": "code",
   "execution_count": 68,
   "metadata": {},
   "outputs": [],
   "source": [
    "# SQL Connection\n",
    "\n",
    "def top_chart_transaction_count(table_name):\n",
    "\n",
    "    mydb=psycopg2.connect(host =\"localhost\",\n",
    "                        user=\"postgres\",\n",
    "                        port=\"5432\",\n",
    "                        database=\"phonepe_data\",\n",
    "                        password=\"Rishab@90\")\n",
    "\n",
    "    cursor = mydb.cursor()\n",
    "\n",
    "\n",
    "    # PLOT 1\n",
    "    query1=f'''SELECT states, SUM(transaction_count) AS transaction_count \n",
    "                FROM {table_name}\n",
    "                GROUP BY states \n",
    "                ORDER BY transaction_count DESC\n",
    "                LIMIT 10;'''\n",
    "\n",
    "    cursor.execute(query1)\n",
    "    table_1=cursor.fetchall()\n",
    "    mydb.commit()\n",
    "\n",
    "    df_1=pd.DataFrame(table_1, columns=(\"states\",\"transaction_count\"))\n",
    "\n",
    "    fig_amount_1 = px.bar(df_1, x=\"states\",y=\"transaction_count\", title=f\"TRANSACTION COUNT\", height=650,\n",
    "                            width=600,color_discrete_sequence=px.colors.sequential.Agsunset, hover_name=\"states\")\n",
    "    fig_amount_1.show()\n",
    "\n",
    "\n",
    "\n",
    "    #### PLOT 2\n",
    "\n",
    "    query2=f'''SELECT states, SUM(transaction_count) AS transaction_count \n",
    "                FROM {table_name}\n",
    "                GROUP BY states \n",
    "                ORDER BY transaction_count ASC\n",
    "                LIMIT 10;'''\n",
    "\n",
    "    cursor.execute(query2)\n",
    "    table_2=cursor.fetchall()\n",
    "    mydb.commit()\n",
    "\n",
    "    df_2=pd.DataFrame(table_2, columns=(\"states\",\"transaction_count\"))\n",
    "\n",
    "    fig_amount_2 = px.bar(df_2, x=\"states\",y=\"transaction_count\", title=f\"TRANSACTION COUNT\", height=650,\n",
    "                            width=600,color_discrete_sequence=px.colors.sequential.Agsunset, hover_name=\"states\")\n",
    "    fig_amount_2.show()\n",
    "\n",
    "    #### plot 3\n",
    "\n",
    "    query3=f'''SELECT states, AVG(transaction_count) AS transaction_count \n",
    "                FROM {table_name}\n",
    "                GROUP BY states \n",
    "                ORDER BY transaction_count;'''\n",
    "\n",
    "    cursor.execute(query3)\n",
    "    table_3=cursor.fetchall()\n",
    "    mydb.commit()\n",
    "\n",
    "    df_3=pd.DataFrame(table_3, columns=(\"states\",\"transaction_count\"))\n",
    "\n",
    "    fig_amount_3 = px.bar(df_3, y=\"states\",x=\"transaction_count\", title=f\"AVERAGE TRANSACTION COUNT\", height=800,\n",
    "                            width=1000,color_discrete_sequence=px.colors.sequential.Blues_r, hover_name=\"states\",\n",
    "                            orientation=\"h\")\n",
    "    fig_amount_3.show()\n",
    "\n",
    "\n",
    "    "
   ]
  },
  {
   "cell_type": "code",
   "execution_count": null,
   "metadata": {},
   "outputs": [],
   "source": [
    "def top_chart_registered_user(table_name, state):\n",
    "\n",
    "    mydb=psycopg2.connect(host =\"localhost\",\n",
    "                        user=\"postgres\",\n",
    "                        port=\"5432\",\n",
    "                        database=\"phonepe_data\",\n",
    "                        password=\"Rishab@90\")\n",
    "\n",
    "    cursor = mydb.cursor()\n",
    "\n",
    "\n",
    "    # PLOT 1\n",
    "    query1=f'''SELECT districts, SUM(registeredusers) AS registeredusers\n",
    "                FROM {table_name}\n",
    "                WHERE states = {state}\n",
    "                GROUP BY districts \n",
    "                ORDER BY registeredusers DESC\n",
    "                LIMIT 10;'''\n",
    "\n",
    "    cursor.execute(query1)\n",
    "    table_1=cursor.fetchall()\n",
    "    mydb.commit()\n",
    "\n",
    "    df_1=pd.DataFrame(table_1, columns=(\"districts\",\"registeredusers\"))\n",
    "\n",
    "    fig_amount_1 = px.bar(df_1, x=\"districts\",y=\"registeredusers\", title=f\"TOP 10 OF REGISTERED USER\", height=650,\n",
    "                            width=600,color_discrete_sequence=px.colors.sequential.Agsunset, hover_name=\"districts\")\n",
    "    fig_amount_1.show()\n",
    "\n",
    "\n",
    "\n",
    "    #### PLOT 2\n",
    "\n",
    "    query2=f'''SELECT districts, SUM(registeredusers) AS registeredusers\n",
    "                FROM {table_name}\n",
    "                WHERE states = {state}\n",
    "                GROUP BY districts \n",
    "                ORDER BY registeredusers;'''\n",
    "\n",
    "    cursor.execute(query2)\n",
    "    table_2=cursor.fetchall()\n",
    "    mydb.commit()\n",
    "\n",
    "    df_2=pd.DataFrame(table_2, columns=(\"districts\",\"registeredusers\"))\n",
    "\n",
    "    fig_amount_2 = px.bar(df_2, x=\"districts\",y=\"registeredusers\", title=f\"LAST 10 OF REGISTERED USER\", height=650,\n",
    "                            width=600,color_discrete_sequence=px.colors.sequential.Agsunset, hover_name=\"districts\")\n",
    "    fig_amount_2.show()\n",
    "\n",
    "    #### plot 3\n",
    "\n",
    "    query3=f'''SELECT districts, AVG(registeredusers) AS registeredusers\n",
    "                FROM {table_name}\n",
    "                WHERE states = {state}\n",
    "                GROUP BY districts \n",
    "                ORDER BY registeredusers DESC\n",
    "                LIMIT 10;'''\n",
    "\n",
    "    cursor.execute(query3)\n",
    "    table_3=cursor.fetchall()\n",
    "    mydb.commit()\n",
    "\n",
    "    df_3=pd.DataFrame(table_3, columns=(\"districts\",\"registeredusers\"))\n",
    "\n",
    "    fig_amount_3 = px.bar(df_3, y=\"districts\",x=\"registeredusers\", title=f\"AVERAGE OF REGISTERED USER\", height=650,\n",
    "                            width=600,color_discrete_sequence=px.colors.sequential.Agsunset, hover_name=\"districts\")\n",
    "    fig_amount_3.show()"
   ]
  },
  {
   "cell_type": "code",
   "execution_count": null,
   "metadata": {},
   "outputs": [],
   "source": [
    "top_chart_transaction_amount(\"aggregated_insurance\")"
   ]
  },
  {
   "cell_type": "code",
   "execution_count": 69,
   "metadata": {},
   "outputs": [
    {
     "data": {
      "application/vnd.plotly.v1+json": {
       "config": {
        "plotlyServerURL": "https://plot.ly"
       },
       "data": [
        {
         "hovertemplate": "<b>%{hovertext}</b><br><br>states=%{x}<br>transaction_count=%{y}<extra></extra>",
         "hovertext": [
          "Karnataka",
          "Maharashtra",
          "Tamil Nadu",
          "Uttar Pradesh",
          "Telangana",
          "West Bengal",
          "Kerala",
          "Andhra Pradesh",
          "Delhi",
          "Rajasthan"
         ],
         "legendgroup": "",
         "marker": {
          "color": "rgb(75, 41, 145)",
          "pattern": {
           "shape": ""
          }
         },
         "name": "",
         "orientation": "v",
         "showlegend": false,
         "textposition": "auto",
         "type": "bar",
         "x": [
          "Karnataka",
          "Maharashtra",
          "Tamil Nadu",
          "Uttar Pradesh",
          "Telangana",
          "West Bengal",
          "Kerala",
          "Andhra Pradesh",
          "Delhi",
          "Rajasthan"
         ],
         "xaxis": "x",
         "y": [
          1598882,
          1527685,
          971400,
          929634,
          750971,
          670838,
          655579,
          588330,
          535402,
          501621
         ],
         "yaxis": "y"
        }
       ],
       "layout": {
        "barmode": "relative",
        "height": 650,
        "legend": {
         "tracegroupgap": 0
        },
        "template": {
         "data": {
          "bar": [
           {
            "error_x": {
             "color": "#2a3f5f"
            },
            "error_y": {
             "color": "#2a3f5f"
            },
            "marker": {
             "line": {
              "color": "#E5ECF6",
              "width": 0.5
             },
             "pattern": {
              "fillmode": "overlay",
              "size": 10,
              "solidity": 0.2
             }
            },
            "type": "bar"
           }
          ],
          "barpolar": [
           {
            "marker": {
             "line": {
              "color": "#E5ECF6",
              "width": 0.5
             },
             "pattern": {
              "fillmode": "overlay",
              "size": 10,
              "solidity": 0.2
             }
            },
            "type": "barpolar"
           }
          ],
          "carpet": [
           {
            "aaxis": {
             "endlinecolor": "#2a3f5f",
             "gridcolor": "white",
             "linecolor": "white",
             "minorgridcolor": "white",
             "startlinecolor": "#2a3f5f"
            },
            "baxis": {
             "endlinecolor": "#2a3f5f",
             "gridcolor": "white",
             "linecolor": "white",
             "minorgridcolor": "white",
             "startlinecolor": "#2a3f5f"
            },
            "type": "carpet"
           }
          ],
          "choropleth": [
           {
            "colorbar": {
             "outlinewidth": 0,
             "ticks": ""
            },
            "type": "choropleth"
           }
          ],
          "contour": [
           {
            "colorbar": {
             "outlinewidth": 0,
             "ticks": ""
            },
            "colorscale": [
             [
              0,
              "#0d0887"
             ],
             [
              0.1111111111111111,
              "#46039f"
             ],
             [
              0.2222222222222222,
              "#7201a8"
             ],
             [
              0.3333333333333333,
              "#9c179e"
             ],
             [
              0.4444444444444444,
              "#bd3786"
             ],
             [
              0.5555555555555556,
              "#d8576b"
             ],
             [
              0.6666666666666666,
              "#ed7953"
             ],
             [
              0.7777777777777778,
              "#fb9f3a"
             ],
             [
              0.8888888888888888,
              "#fdca26"
             ],
             [
              1,
              "#f0f921"
             ]
            ],
            "type": "contour"
           }
          ],
          "contourcarpet": [
           {
            "colorbar": {
             "outlinewidth": 0,
             "ticks": ""
            },
            "type": "contourcarpet"
           }
          ],
          "heatmap": [
           {
            "colorbar": {
             "outlinewidth": 0,
             "ticks": ""
            },
            "colorscale": [
             [
              0,
              "#0d0887"
             ],
             [
              0.1111111111111111,
              "#46039f"
             ],
             [
              0.2222222222222222,
              "#7201a8"
             ],
             [
              0.3333333333333333,
              "#9c179e"
             ],
             [
              0.4444444444444444,
              "#bd3786"
             ],
             [
              0.5555555555555556,
              "#d8576b"
             ],
             [
              0.6666666666666666,
              "#ed7953"
             ],
             [
              0.7777777777777778,
              "#fb9f3a"
             ],
             [
              0.8888888888888888,
              "#fdca26"
             ],
             [
              1,
              "#f0f921"
             ]
            ],
            "type": "heatmap"
           }
          ],
          "histogram": [
           {
            "marker": {
             "pattern": {
              "fillmode": "overlay",
              "size": 10,
              "solidity": 0.2
             }
            },
            "type": "histogram"
           }
          ],
          "histogram2d": [
           {
            "colorbar": {
             "outlinewidth": 0,
             "ticks": ""
            },
            "colorscale": [
             [
              0,
              "#0d0887"
             ],
             [
              0.1111111111111111,
              "#46039f"
             ],
             [
              0.2222222222222222,
              "#7201a8"
             ],
             [
              0.3333333333333333,
              "#9c179e"
             ],
             [
              0.4444444444444444,
              "#bd3786"
             ],
             [
              0.5555555555555556,
              "#d8576b"
             ],
             [
              0.6666666666666666,
              "#ed7953"
             ],
             [
              0.7777777777777778,
              "#fb9f3a"
             ],
             [
              0.8888888888888888,
              "#fdca26"
             ],
             [
              1,
              "#f0f921"
             ]
            ],
            "type": "histogram2d"
           }
          ],
          "histogram2dcontour": [
           {
            "colorbar": {
             "outlinewidth": 0,
             "ticks": ""
            },
            "colorscale": [
             [
              0,
              "#0d0887"
             ],
             [
              0.1111111111111111,
              "#46039f"
             ],
             [
              0.2222222222222222,
              "#7201a8"
             ],
             [
              0.3333333333333333,
              "#9c179e"
             ],
             [
              0.4444444444444444,
              "#bd3786"
             ],
             [
              0.5555555555555556,
              "#d8576b"
             ],
             [
              0.6666666666666666,
              "#ed7953"
             ],
             [
              0.7777777777777778,
              "#fb9f3a"
             ],
             [
              0.8888888888888888,
              "#fdca26"
             ],
             [
              1,
              "#f0f921"
             ]
            ],
            "type": "histogram2dcontour"
           }
          ],
          "mesh3d": [
           {
            "colorbar": {
             "outlinewidth": 0,
             "ticks": ""
            },
            "type": "mesh3d"
           }
          ],
          "parcoords": [
           {
            "line": {
             "colorbar": {
              "outlinewidth": 0,
              "ticks": ""
             }
            },
            "type": "parcoords"
           }
          ],
          "pie": [
           {
            "automargin": true,
            "type": "pie"
           }
          ],
          "scatter": [
           {
            "fillpattern": {
             "fillmode": "overlay",
             "size": 10,
             "solidity": 0.2
            },
            "type": "scatter"
           }
          ],
          "scatter3d": [
           {
            "line": {
             "colorbar": {
              "outlinewidth": 0,
              "ticks": ""
             }
            },
            "marker": {
             "colorbar": {
              "outlinewidth": 0,
              "ticks": ""
             }
            },
            "type": "scatter3d"
           }
          ],
          "scattercarpet": [
           {
            "marker": {
             "colorbar": {
              "outlinewidth": 0,
              "ticks": ""
             }
            },
            "type": "scattercarpet"
           }
          ],
          "scattergeo": [
           {
            "marker": {
             "colorbar": {
              "outlinewidth": 0,
              "ticks": ""
             }
            },
            "type": "scattergeo"
           }
          ],
          "scattergl": [
           {
            "marker": {
             "colorbar": {
              "outlinewidth": 0,
              "ticks": ""
             }
            },
            "type": "scattergl"
           }
          ],
          "scattermap": [
           {
            "marker": {
             "colorbar": {
              "outlinewidth": 0,
              "ticks": ""
             }
            },
            "type": "scattermap"
           }
          ],
          "scattermapbox": [
           {
            "marker": {
             "colorbar": {
              "outlinewidth": 0,
              "ticks": ""
             }
            },
            "type": "scattermapbox"
           }
          ],
          "scatterpolar": [
           {
            "marker": {
             "colorbar": {
              "outlinewidth": 0,
              "ticks": ""
             }
            },
            "type": "scatterpolar"
           }
          ],
          "scatterpolargl": [
           {
            "marker": {
             "colorbar": {
              "outlinewidth": 0,
              "ticks": ""
             }
            },
            "type": "scatterpolargl"
           }
          ],
          "scatterternary": [
           {
            "marker": {
             "colorbar": {
              "outlinewidth": 0,
              "ticks": ""
             }
            },
            "type": "scatterternary"
           }
          ],
          "surface": [
           {
            "colorbar": {
             "outlinewidth": 0,
             "ticks": ""
            },
            "colorscale": [
             [
              0,
              "#0d0887"
             ],
             [
              0.1111111111111111,
              "#46039f"
             ],
             [
              0.2222222222222222,
              "#7201a8"
             ],
             [
              0.3333333333333333,
              "#9c179e"
             ],
             [
              0.4444444444444444,
              "#bd3786"
             ],
             [
              0.5555555555555556,
              "#d8576b"
             ],
             [
              0.6666666666666666,
              "#ed7953"
             ],
             [
              0.7777777777777778,
              "#fb9f3a"
             ],
             [
              0.8888888888888888,
              "#fdca26"
             ],
             [
              1,
              "#f0f921"
             ]
            ],
            "type": "surface"
           }
          ],
          "table": [
           {
            "cells": {
             "fill": {
              "color": "#EBF0F8"
             },
             "line": {
              "color": "white"
             }
            },
            "header": {
             "fill": {
              "color": "#C8D4E3"
             },
             "line": {
              "color": "white"
             }
            },
            "type": "table"
           }
          ]
         },
         "layout": {
          "annotationdefaults": {
           "arrowcolor": "#2a3f5f",
           "arrowhead": 0,
           "arrowwidth": 1
          },
          "autotypenumbers": "strict",
          "coloraxis": {
           "colorbar": {
            "outlinewidth": 0,
            "ticks": ""
           }
          },
          "colorscale": {
           "diverging": [
            [
             0,
             "#8e0152"
            ],
            [
             0.1,
             "#c51b7d"
            ],
            [
             0.2,
             "#de77ae"
            ],
            [
             0.3,
             "#f1b6da"
            ],
            [
             0.4,
             "#fde0ef"
            ],
            [
             0.5,
             "#f7f7f7"
            ],
            [
             0.6,
             "#e6f5d0"
            ],
            [
             0.7,
             "#b8e186"
            ],
            [
             0.8,
             "#7fbc41"
            ],
            [
             0.9,
             "#4d9221"
            ],
            [
             1,
             "#276419"
            ]
           ],
           "sequential": [
            [
             0,
             "#0d0887"
            ],
            [
             0.1111111111111111,
             "#46039f"
            ],
            [
             0.2222222222222222,
             "#7201a8"
            ],
            [
             0.3333333333333333,
             "#9c179e"
            ],
            [
             0.4444444444444444,
             "#bd3786"
            ],
            [
             0.5555555555555556,
             "#d8576b"
            ],
            [
             0.6666666666666666,
             "#ed7953"
            ],
            [
             0.7777777777777778,
             "#fb9f3a"
            ],
            [
             0.8888888888888888,
             "#fdca26"
            ],
            [
             1,
             "#f0f921"
            ]
           ],
           "sequentialminus": [
            [
             0,
             "#0d0887"
            ],
            [
             0.1111111111111111,
             "#46039f"
            ],
            [
             0.2222222222222222,
             "#7201a8"
            ],
            [
             0.3333333333333333,
             "#9c179e"
            ],
            [
             0.4444444444444444,
             "#bd3786"
            ],
            [
             0.5555555555555556,
             "#d8576b"
            ],
            [
             0.6666666666666666,
             "#ed7953"
            ],
            [
             0.7777777777777778,
             "#fb9f3a"
            ],
            [
             0.8888888888888888,
             "#fdca26"
            ],
            [
             1,
             "#f0f921"
            ]
           ]
          },
          "colorway": [
           "#636efa",
           "#EF553B",
           "#00cc96",
           "#ab63fa",
           "#FFA15A",
           "#19d3f3",
           "#FF6692",
           "#B6E880",
           "#FF97FF",
           "#FECB52"
          ],
          "font": {
           "color": "#2a3f5f"
          },
          "geo": {
           "bgcolor": "white",
           "lakecolor": "white",
           "landcolor": "#E5ECF6",
           "showlakes": true,
           "showland": true,
           "subunitcolor": "white"
          },
          "hoverlabel": {
           "align": "left"
          },
          "hovermode": "closest",
          "mapbox": {
           "style": "light"
          },
          "paper_bgcolor": "white",
          "plot_bgcolor": "#E5ECF6",
          "polar": {
           "angularaxis": {
            "gridcolor": "white",
            "linecolor": "white",
            "ticks": ""
           },
           "bgcolor": "#E5ECF6",
           "radialaxis": {
            "gridcolor": "white",
            "linecolor": "white",
            "ticks": ""
           }
          },
          "scene": {
           "xaxis": {
            "backgroundcolor": "#E5ECF6",
            "gridcolor": "white",
            "gridwidth": 2,
            "linecolor": "white",
            "showbackground": true,
            "ticks": "",
            "zerolinecolor": "white"
           },
           "yaxis": {
            "backgroundcolor": "#E5ECF6",
            "gridcolor": "white",
            "gridwidth": 2,
            "linecolor": "white",
            "showbackground": true,
            "ticks": "",
            "zerolinecolor": "white"
           },
           "zaxis": {
            "backgroundcolor": "#E5ECF6",
            "gridcolor": "white",
            "gridwidth": 2,
            "linecolor": "white",
            "showbackground": true,
            "ticks": "",
            "zerolinecolor": "white"
           }
          },
          "shapedefaults": {
           "line": {
            "color": "#2a3f5f"
           }
          },
          "ternary": {
           "aaxis": {
            "gridcolor": "white",
            "linecolor": "white",
            "ticks": ""
           },
           "baxis": {
            "gridcolor": "white",
            "linecolor": "white",
            "ticks": ""
           },
           "bgcolor": "#E5ECF6",
           "caxis": {
            "gridcolor": "white",
            "linecolor": "white",
            "ticks": ""
           }
          },
          "title": {
           "x": 0.05
          },
          "xaxis": {
           "automargin": true,
           "gridcolor": "white",
           "linecolor": "white",
           "ticks": "",
           "title": {
            "standoff": 15
           },
           "zerolinecolor": "white",
           "zerolinewidth": 2
          },
          "yaxis": {
           "automargin": true,
           "gridcolor": "white",
           "linecolor": "white",
           "ticks": "",
           "title": {
            "standoff": 15
           },
           "zerolinecolor": "white",
           "zerolinewidth": 2
          }
         }
        },
        "title": {
         "text": "TRANSACTION COUNT"
        },
        "width": 600,
        "xaxis": {
         "anchor": "y",
         "domain": [
          0,
          1
         ],
         "title": {
          "text": "states"
         }
        },
        "yaxis": {
         "anchor": "x",
         "domain": [
          0,
          1
         ],
         "title": {
          "text": "transaction_count"
         }
        }
       }
      }
     },
     "metadata": {},
     "output_type": "display_data"
    },
    {
     "data": {
      "application/vnd.plotly.v1+json": {
       "config": {
        "plotlyServerURL": "https://plot.ly"
       },
       "data": [
        {
         "hovertemplate": "<b>%{hovertext}</b><br><br>states=%{x}<br>transaction_count=%{y}<extra></extra>",
         "hovertext": [
          "Lakshadweep",
          "Ladakh",
          "Manipur",
          "Mizoram",
          "Nagaland",
          "Sikkim",
          "Meghalaya",
          "Arunachal Pradesh",
          "Andaman & Nicobar",
          "Dadra and Nagar Haveli and Daman and Diu"
         ],
         "legendgroup": "",
         "marker": {
          "color": "rgb(75, 41, 145)",
          "pattern": {
           "shape": ""
          }
         },
         "name": "",
         "orientation": "v",
         "showlegend": false,
         "textposition": "auto",
         "type": "bar",
         "x": [
          "Lakshadweep",
          "Ladakh",
          "Manipur",
          "Mizoram",
          "Nagaland",
          "Sikkim",
          "Meghalaya",
          "Arunachal Pradesh",
          "Andaman & Nicobar",
          "Dadra and Nagar Haveli and Daman and Diu"
         ],
         "xaxis": "x",
         "y": [
          288,
          2463,
          3041,
          3049,
          3767,
          3836,
          8008,
          8373,
          10513,
          11237
         ],
         "yaxis": "y"
        }
       ],
       "layout": {
        "barmode": "relative",
        "height": 650,
        "legend": {
         "tracegroupgap": 0
        },
        "template": {
         "data": {
          "bar": [
           {
            "error_x": {
             "color": "#2a3f5f"
            },
            "error_y": {
             "color": "#2a3f5f"
            },
            "marker": {
             "line": {
              "color": "#E5ECF6",
              "width": 0.5
             },
             "pattern": {
              "fillmode": "overlay",
              "size": 10,
              "solidity": 0.2
             }
            },
            "type": "bar"
           }
          ],
          "barpolar": [
           {
            "marker": {
             "line": {
              "color": "#E5ECF6",
              "width": 0.5
             },
             "pattern": {
              "fillmode": "overlay",
              "size": 10,
              "solidity": 0.2
             }
            },
            "type": "barpolar"
           }
          ],
          "carpet": [
           {
            "aaxis": {
             "endlinecolor": "#2a3f5f",
             "gridcolor": "white",
             "linecolor": "white",
             "minorgridcolor": "white",
             "startlinecolor": "#2a3f5f"
            },
            "baxis": {
             "endlinecolor": "#2a3f5f",
             "gridcolor": "white",
             "linecolor": "white",
             "minorgridcolor": "white",
             "startlinecolor": "#2a3f5f"
            },
            "type": "carpet"
           }
          ],
          "choropleth": [
           {
            "colorbar": {
             "outlinewidth": 0,
             "ticks": ""
            },
            "type": "choropleth"
           }
          ],
          "contour": [
           {
            "colorbar": {
             "outlinewidth": 0,
             "ticks": ""
            },
            "colorscale": [
             [
              0,
              "#0d0887"
             ],
             [
              0.1111111111111111,
              "#46039f"
             ],
             [
              0.2222222222222222,
              "#7201a8"
             ],
             [
              0.3333333333333333,
              "#9c179e"
             ],
             [
              0.4444444444444444,
              "#bd3786"
             ],
             [
              0.5555555555555556,
              "#d8576b"
             ],
             [
              0.6666666666666666,
              "#ed7953"
             ],
             [
              0.7777777777777778,
              "#fb9f3a"
             ],
             [
              0.8888888888888888,
              "#fdca26"
             ],
             [
              1,
              "#f0f921"
             ]
            ],
            "type": "contour"
           }
          ],
          "contourcarpet": [
           {
            "colorbar": {
             "outlinewidth": 0,
             "ticks": ""
            },
            "type": "contourcarpet"
           }
          ],
          "heatmap": [
           {
            "colorbar": {
             "outlinewidth": 0,
             "ticks": ""
            },
            "colorscale": [
             [
              0,
              "#0d0887"
             ],
             [
              0.1111111111111111,
              "#46039f"
             ],
             [
              0.2222222222222222,
              "#7201a8"
             ],
             [
              0.3333333333333333,
              "#9c179e"
             ],
             [
              0.4444444444444444,
              "#bd3786"
             ],
             [
              0.5555555555555556,
              "#d8576b"
             ],
             [
              0.6666666666666666,
              "#ed7953"
             ],
             [
              0.7777777777777778,
              "#fb9f3a"
             ],
             [
              0.8888888888888888,
              "#fdca26"
             ],
             [
              1,
              "#f0f921"
             ]
            ],
            "type": "heatmap"
           }
          ],
          "histogram": [
           {
            "marker": {
             "pattern": {
              "fillmode": "overlay",
              "size": 10,
              "solidity": 0.2
             }
            },
            "type": "histogram"
           }
          ],
          "histogram2d": [
           {
            "colorbar": {
             "outlinewidth": 0,
             "ticks": ""
            },
            "colorscale": [
             [
              0,
              "#0d0887"
             ],
             [
              0.1111111111111111,
              "#46039f"
             ],
             [
              0.2222222222222222,
              "#7201a8"
             ],
             [
              0.3333333333333333,
              "#9c179e"
             ],
             [
              0.4444444444444444,
              "#bd3786"
             ],
             [
              0.5555555555555556,
              "#d8576b"
             ],
             [
              0.6666666666666666,
              "#ed7953"
             ],
             [
              0.7777777777777778,
              "#fb9f3a"
             ],
             [
              0.8888888888888888,
              "#fdca26"
             ],
             [
              1,
              "#f0f921"
             ]
            ],
            "type": "histogram2d"
           }
          ],
          "histogram2dcontour": [
           {
            "colorbar": {
             "outlinewidth": 0,
             "ticks": ""
            },
            "colorscale": [
             [
              0,
              "#0d0887"
             ],
             [
              0.1111111111111111,
              "#46039f"
             ],
             [
              0.2222222222222222,
              "#7201a8"
             ],
             [
              0.3333333333333333,
              "#9c179e"
             ],
             [
              0.4444444444444444,
              "#bd3786"
             ],
             [
              0.5555555555555556,
              "#d8576b"
             ],
             [
              0.6666666666666666,
              "#ed7953"
             ],
             [
              0.7777777777777778,
              "#fb9f3a"
             ],
             [
              0.8888888888888888,
              "#fdca26"
             ],
             [
              1,
              "#f0f921"
             ]
            ],
            "type": "histogram2dcontour"
           }
          ],
          "mesh3d": [
           {
            "colorbar": {
             "outlinewidth": 0,
             "ticks": ""
            },
            "type": "mesh3d"
           }
          ],
          "parcoords": [
           {
            "line": {
             "colorbar": {
              "outlinewidth": 0,
              "ticks": ""
             }
            },
            "type": "parcoords"
           }
          ],
          "pie": [
           {
            "automargin": true,
            "type": "pie"
           }
          ],
          "scatter": [
           {
            "fillpattern": {
             "fillmode": "overlay",
             "size": 10,
             "solidity": 0.2
            },
            "type": "scatter"
           }
          ],
          "scatter3d": [
           {
            "line": {
             "colorbar": {
              "outlinewidth": 0,
              "ticks": ""
             }
            },
            "marker": {
             "colorbar": {
              "outlinewidth": 0,
              "ticks": ""
             }
            },
            "type": "scatter3d"
           }
          ],
          "scattercarpet": [
           {
            "marker": {
             "colorbar": {
              "outlinewidth": 0,
              "ticks": ""
             }
            },
            "type": "scattercarpet"
           }
          ],
          "scattergeo": [
           {
            "marker": {
             "colorbar": {
              "outlinewidth": 0,
              "ticks": ""
             }
            },
            "type": "scattergeo"
           }
          ],
          "scattergl": [
           {
            "marker": {
             "colorbar": {
              "outlinewidth": 0,
              "ticks": ""
             }
            },
            "type": "scattergl"
           }
          ],
          "scattermap": [
           {
            "marker": {
             "colorbar": {
              "outlinewidth": 0,
              "ticks": ""
             }
            },
            "type": "scattermap"
           }
          ],
          "scattermapbox": [
           {
            "marker": {
             "colorbar": {
              "outlinewidth": 0,
              "ticks": ""
             }
            },
            "type": "scattermapbox"
           }
          ],
          "scatterpolar": [
           {
            "marker": {
             "colorbar": {
              "outlinewidth": 0,
              "ticks": ""
             }
            },
            "type": "scatterpolar"
           }
          ],
          "scatterpolargl": [
           {
            "marker": {
             "colorbar": {
              "outlinewidth": 0,
              "ticks": ""
             }
            },
            "type": "scatterpolargl"
           }
          ],
          "scatterternary": [
           {
            "marker": {
             "colorbar": {
              "outlinewidth": 0,
              "ticks": ""
             }
            },
            "type": "scatterternary"
           }
          ],
          "surface": [
           {
            "colorbar": {
             "outlinewidth": 0,
             "ticks": ""
            },
            "colorscale": [
             [
              0,
              "#0d0887"
             ],
             [
              0.1111111111111111,
              "#46039f"
             ],
             [
              0.2222222222222222,
              "#7201a8"
             ],
             [
              0.3333333333333333,
              "#9c179e"
             ],
             [
              0.4444444444444444,
              "#bd3786"
             ],
             [
              0.5555555555555556,
              "#d8576b"
             ],
             [
              0.6666666666666666,
              "#ed7953"
             ],
             [
              0.7777777777777778,
              "#fb9f3a"
             ],
             [
              0.8888888888888888,
              "#fdca26"
             ],
             [
              1,
              "#f0f921"
             ]
            ],
            "type": "surface"
           }
          ],
          "table": [
           {
            "cells": {
             "fill": {
              "color": "#EBF0F8"
             },
             "line": {
              "color": "white"
             }
            },
            "header": {
             "fill": {
              "color": "#C8D4E3"
             },
             "line": {
              "color": "white"
             }
            },
            "type": "table"
           }
          ]
         },
         "layout": {
          "annotationdefaults": {
           "arrowcolor": "#2a3f5f",
           "arrowhead": 0,
           "arrowwidth": 1
          },
          "autotypenumbers": "strict",
          "coloraxis": {
           "colorbar": {
            "outlinewidth": 0,
            "ticks": ""
           }
          },
          "colorscale": {
           "diverging": [
            [
             0,
             "#8e0152"
            ],
            [
             0.1,
             "#c51b7d"
            ],
            [
             0.2,
             "#de77ae"
            ],
            [
             0.3,
             "#f1b6da"
            ],
            [
             0.4,
             "#fde0ef"
            ],
            [
             0.5,
             "#f7f7f7"
            ],
            [
             0.6,
             "#e6f5d0"
            ],
            [
             0.7,
             "#b8e186"
            ],
            [
             0.8,
             "#7fbc41"
            ],
            [
             0.9,
             "#4d9221"
            ],
            [
             1,
             "#276419"
            ]
           ],
           "sequential": [
            [
             0,
             "#0d0887"
            ],
            [
             0.1111111111111111,
             "#46039f"
            ],
            [
             0.2222222222222222,
             "#7201a8"
            ],
            [
             0.3333333333333333,
             "#9c179e"
            ],
            [
             0.4444444444444444,
             "#bd3786"
            ],
            [
             0.5555555555555556,
             "#d8576b"
            ],
            [
             0.6666666666666666,
             "#ed7953"
            ],
            [
             0.7777777777777778,
             "#fb9f3a"
            ],
            [
             0.8888888888888888,
             "#fdca26"
            ],
            [
             1,
             "#f0f921"
            ]
           ],
           "sequentialminus": [
            [
             0,
             "#0d0887"
            ],
            [
             0.1111111111111111,
             "#46039f"
            ],
            [
             0.2222222222222222,
             "#7201a8"
            ],
            [
             0.3333333333333333,
             "#9c179e"
            ],
            [
             0.4444444444444444,
             "#bd3786"
            ],
            [
             0.5555555555555556,
             "#d8576b"
            ],
            [
             0.6666666666666666,
             "#ed7953"
            ],
            [
             0.7777777777777778,
             "#fb9f3a"
            ],
            [
             0.8888888888888888,
             "#fdca26"
            ],
            [
             1,
             "#f0f921"
            ]
           ]
          },
          "colorway": [
           "#636efa",
           "#EF553B",
           "#00cc96",
           "#ab63fa",
           "#FFA15A",
           "#19d3f3",
           "#FF6692",
           "#B6E880",
           "#FF97FF",
           "#FECB52"
          ],
          "font": {
           "color": "#2a3f5f"
          },
          "geo": {
           "bgcolor": "white",
           "lakecolor": "white",
           "landcolor": "#E5ECF6",
           "showlakes": true,
           "showland": true,
           "subunitcolor": "white"
          },
          "hoverlabel": {
           "align": "left"
          },
          "hovermode": "closest",
          "mapbox": {
           "style": "light"
          },
          "paper_bgcolor": "white",
          "plot_bgcolor": "#E5ECF6",
          "polar": {
           "angularaxis": {
            "gridcolor": "white",
            "linecolor": "white",
            "ticks": ""
           },
           "bgcolor": "#E5ECF6",
           "radialaxis": {
            "gridcolor": "white",
            "linecolor": "white",
            "ticks": ""
           }
          },
          "scene": {
           "xaxis": {
            "backgroundcolor": "#E5ECF6",
            "gridcolor": "white",
            "gridwidth": 2,
            "linecolor": "white",
            "showbackground": true,
            "ticks": "",
            "zerolinecolor": "white"
           },
           "yaxis": {
            "backgroundcolor": "#E5ECF6",
            "gridcolor": "white",
            "gridwidth": 2,
            "linecolor": "white",
            "showbackground": true,
            "ticks": "",
            "zerolinecolor": "white"
           },
           "zaxis": {
            "backgroundcolor": "#E5ECF6",
            "gridcolor": "white",
            "gridwidth": 2,
            "linecolor": "white",
            "showbackground": true,
            "ticks": "",
            "zerolinecolor": "white"
           }
          },
          "shapedefaults": {
           "line": {
            "color": "#2a3f5f"
           }
          },
          "ternary": {
           "aaxis": {
            "gridcolor": "white",
            "linecolor": "white",
            "ticks": ""
           },
           "baxis": {
            "gridcolor": "white",
            "linecolor": "white",
            "ticks": ""
           },
           "bgcolor": "#E5ECF6",
           "caxis": {
            "gridcolor": "white",
            "linecolor": "white",
            "ticks": ""
           }
          },
          "title": {
           "x": 0.05
          },
          "xaxis": {
           "automargin": true,
           "gridcolor": "white",
           "linecolor": "white",
           "ticks": "",
           "title": {
            "standoff": 15
           },
           "zerolinecolor": "white",
           "zerolinewidth": 2
          },
          "yaxis": {
           "automargin": true,
           "gridcolor": "white",
           "linecolor": "white",
           "ticks": "",
           "title": {
            "standoff": 15
           },
           "zerolinecolor": "white",
           "zerolinewidth": 2
          }
         }
        },
        "title": {
         "text": "TRANSACTION COUNT"
        },
        "width": 600,
        "xaxis": {
         "anchor": "y",
         "domain": [
          0,
          1
         ],
         "title": {
          "text": "states"
         }
        },
        "yaxis": {
         "anchor": "x",
         "domain": [
          0,
          1
         ],
         "title": {
          "text": "transaction_count"
         }
        }
       }
      }
     },
     "metadata": {},
     "output_type": "display_data"
    },
    {
     "data": {
      "application/vnd.plotly.v1+json": {
       "config": {
        "plotlyServerURL": "https://plot.ly"
       },
       "data": [
        {
         "hovertemplate": "<b>%{hovertext}</b><br><br>transaction_count=%{x}<br>states=%{y}<extra></extra>",
         "hovertext": [
          "Lakshadweep",
          "Ladakh",
          "Manipur",
          "Mizoram",
          "Nagaland",
          "Sikkim",
          "Meghalaya",
          "Arunachal Pradesh",
          "Andaman & Nicobar",
          "Dadra and Nagar Haveli and Daman and Diu",
          "Chandigarh",
          "Tripura",
          "Puducherry",
          "Goa",
          "Himachal Pradesh",
          "Jammu & Kashmir",
          "Uttarakhand",
          "Punjab",
          "Chhattisgarh",
          "Jharkhand",
          "Assam",
          "Odisha",
          "Madhya Pradesh",
          "Bihar",
          "Gujarat",
          "Haryana",
          "Rajasthan",
          "Delhi",
          "Andhra Pradesh",
          "Kerala",
          "West Bengal",
          "Telangana",
          "Uttar Pradesh",
          "Tamil Nadu",
          "Maharashtra",
          "Karnataka"
         ],
         "legendgroup": "",
         "marker": {
          "color": "rgb(8,48,107)",
          "pattern": {
           "shape": ""
          }
         },
         "name": "",
         "orientation": "h",
         "showlegend": false,
         "textposition": "auto",
         "type": "bar",
         "x": [
          19.2,
          144.88235294117646,
          178.88235294117646,
          179.35294117647058,
          221.58823529411765,
          225.64705882352942,
          471.05882352941177,
          492.52941176470586,
          618.4117647058823,
          661,
          1058.4117647058824,
          1169.5294117647059,
          1323.6470588235295,
          2815.0588235294117,
          2930.6470588235293,
          3640.294117647059,
          5929.235294117647,
          8719,
          8837.882352941177,
          12242.29411764706,
          13140,
          15240,
          22602.58823529412,
          25246.176470588234,
          26665.058823529413,
          27364.41176470588,
          29507.117647058825,
          31494.235294117647,
          34607.64705882353,
          38563.470588235294,
          39461.05882352941,
          44174.76470588235,
          54684.35294117647,
          57141.17647058824,
          89863.82352941176,
          94051.88235294117
         ],
         "xaxis": "x",
         "y": [
          "Lakshadweep",
          "Ladakh",
          "Manipur",
          "Mizoram",
          "Nagaland",
          "Sikkim",
          "Meghalaya",
          "Arunachal Pradesh",
          "Andaman & Nicobar",
          "Dadra and Nagar Haveli and Daman and Diu",
          "Chandigarh",
          "Tripura",
          "Puducherry",
          "Goa",
          "Himachal Pradesh",
          "Jammu & Kashmir",
          "Uttarakhand",
          "Punjab",
          "Chhattisgarh",
          "Jharkhand",
          "Assam",
          "Odisha",
          "Madhya Pradesh",
          "Bihar",
          "Gujarat",
          "Haryana",
          "Rajasthan",
          "Delhi",
          "Andhra Pradesh",
          "Kerala",
          "West Bengal",
          "Telangana",
          "Uttar Pradesh",
          "Tamil Nadu",
          "Maharashtra",
          "Karnataka"
         ],
         "yaxis": "y"
        }
       ],
       "layout": {
        "barmode": "relative",
        "height": 800,
        "legend": {
         "tracegroupgap": 0
        },
        "template": {
         "data": {
          "bar": [
           {
            "error_x": {
             "color": "#2a3f5f"
            },
            "error_y": {
             "color": "#2a3f5f"
            },
            "marker": {
             "line": {
              "color": "#E5ECF6",
              "width": 0.5
             },
             "pattern": {
              "fillmode": "overlay",
              "size": 10,
              "solidity": 0.2
             }
            },
            "type": "bar"
           }
          ],
          "barpolar": [
           {
            "marker": {
             "line": {
              "color": "#E5ECF6",
              "width": 0.5
             },
             "pattern": {
              "fillmode": "overlay",
              "size": 10,
              "solidity": 0.2
             }
            },
            "type": "barpolar"
           }
          ],
          "carpet": [
           {
            "aaxis": {
             "endlinecolor": "#2a3f5f",
             "gridcolor": "white",
             "linecolor": "white",
             "minorgridcolor": "white",
             "startlinecolor": "#2a3f5f"
            },
            "baxis": {
             "endlinecolor": "#2a3f5f",
             "gridcolor": "white",
             "linecolor": "white",
             "minorgridcolor": "white",
             "startlinecolor": "#2a3f5f"
            },
            "type": "carpet"
           }
          ],
          "choropleth": [
           {
            "colorbar": {
             "outlinewidth": 0,
             "ticks": ""
            },
            "type": "choropleth"
           }
          ],
          "contour": [
           {
            "colorbar": {
             "outlinewidth": 0,
             "ticks": ""
            },
            "colorscale": [
             [
              0,
              "#0d0887"
             ],
             [
              0.1111111111111111,
              "#46039f"
             ],
             [
              0.2222222222222222,
              "#7201a8"
             ],
             [
              0.3333333333333333,
              "#9c179e"
             ],
             [
              0.4444444444444444,
              "#bd3786"
             ],
             [
              0.5555555555555556,
              "#d8576b"
             ],
             [
              0.6666666666666666,
              "#ed7953"
             ],
             [
              0.7777777777777778,
              "#fb9f3a"
             ],
             [
              0.8888888888888888,
              "#fdca26"
             ],
             [
              1,
              "#f0f921"
             ]
            ],
            "type": "contour"
           }
          ],
          "contourcarpet": [
           {
            "colorbar": {
             "outlinewidth": 0,
             "ticks": ""
            },
            "type": "contourcarpet"
           }
          ],
          "heatmap": [
           {
            "colorbar": {
             "outlinewidth": 0,
             "ticks": ""
            },
            "colorscale": [
             [
              0,
              "#0d0887"
             ],
             [
              0.1111111111111111,
              "#46039f"
             ],
             [
              0.2222222222222222,
              "#7201a8"
             ],
             [
              0.3333333333333333,
              "#9c179e"
             ],
             [
              0.4444444444444444,
              "#bd3786"
             ],
             [
              0.5555555555555556,
              "#d8576b"
             ],
             [
              0.6666666666666666,
              "#ed7953"
             ],
             [
              0.7777777777777778,
              "#fb9f3a"
             ],
             [
              0.8888888888888888,
              "#fdca26"
             ],
             [
              1,
              "#f0f921"
             ]
            ],
            "type": "heatmap"
           }
          ],
          "histogram": [
           {
            "marker": {
             "pattern": {
              "fillmode": "overlay",
              "size": 10,
              "solidity": 0.2
             }
            },
            "type": "histogram"
           }
          ],
          "histogram2d": [
           {
            "colorbar": {
             "outlinewidth": 0,
             "ticks": ""
            },
            "colorscale": [
             [
              0,
              "#0d0887"
             ],
             [
              0.1111111111111111,
              "#46039f"
             ],
             [
              0.2222222222222222,
              "#7201a8"
             ],
             [
              0.3333333333333333,
              "#9c179e"
             ],
             [
              0.4444444444444444,
              "#bd3786"
             ],
             [
              0.5555555555555556,
              "#d8576b"
             ],
             [
              0.6666666666666666,
              "#ed7953"
             ],
             [
              0.7777777777777778,
              "#fb9f3a"
             ],
             [
              0.8888888888888888,
              "#fdca26"
             ],
             [
              1,
              "#f0f921"
             ]
            ],
            "type": "histogram2d"
           }
          ],
          "histogram2dcontour": [
           {
            "colorbar": {
             "outlinewidth": 0,
             "ticks": ""
            },
            "colorscale": [
             [
              0,
              "#0d0887"
             ],
             [
              0.1111111111111111,
              "#46039f"
             ],
             [
              0.2222222222222222,
              "#7201a8"
             ],
             [
              0.3333333333333333,
              "#9c179e"
             ],
             [
              0.4444444444444444,
              "#bd3786"
             ],
             [
              0.5555555555555556,
              "#d8576b"
             ],
             [
              0.6666666666666666,
              "#ed7953"
             ],
             [
              0.7777777777777778,
              "#fb9f3a"
             ],
             [
              0.8888888888888888,
              "#fdca26"
             ],
             [
              1,
              "#f0f921"
             ]
            ],
            "type": "histogram2dcontour"
           }
          ],
          "mesh3d": [
           {
            "colorbar": {
             "outlinewidth": 0,
             "ticks": ""
            },
            "type": "mesh3d"
           }
          ],
          "parcoords": [
           {
            "line": {
             "colorbar": {
              "outlinewidth": 0,
              "ticks": ""
             }
            },
            "type": "parcoords"
           }
          ],
          "pie": [
           {
            "automargin": true,
            "type": "pie"
           }
          ],
          "scatter": [
           {
            "fillpattern": {
             "fillmode": "overlay",
             "size": 10,
             "solidity": 0.2
            },
            "type": "scatter"
           }
          ],
          "scatter3d": [
           {
            "line": {
             "colorbar": {
              "outlinewidth": 0,
              "ticks": ""
             }
            },
            "marker": {
             "colorbar": {
              "outlinewidth": 0,
              "ticks": ""
             }
            },
            "type": "scatter3d"
           }
          ],
          "scattercarpet": [
           {
            "marker": {
             "colorbar": {
              "outlinewidth": 0,
              "ticks": ""
             }
            },
            "type": "scattercarpet"
           }
          ],
          "scattergeo": [
           {
            "marker": {
             "colorbar": {
              "outlinewidth": 0,
              "ticks": ""
             }
            },
            "type": "scattergeo"
           }
          ],
          "scattergl": [
           {
            "marker": {
             "colorbar": {
              "outlinewidth": 0,
              "ticks": ""
             }
            },
            "type": "scattergl"
           }
          ],
          "scattermap": [
           {
            "marker": {
             "colorbar": {
              "outlinewidth": 0,
              "ticks": ""
             }
            },
            "type": "scattermap"
           }
          ],
          "scattermapbox": [
           {
            "marker": {
             "colorbar": {
              "outlinewidth": 0,
              "ticks": ""
             }
            },
            "type": "scattermapbox"
           }
          ],
          "scatterpolar": [
           {
            "marker": {
             "colorbar": {
              "outlinewidth": 0,
              "ticks": ""
             }
            },
            "type": "scatterpolar"
           }
          ],
          "scatterpolargl": [
           {
            "marker": {
             "colorbar": {
              "outlinewidth": 0,
              "ticks": ""
             }
            },
            "type": "scatterpolargl"
           }
          ],
          "scatterternary": [
           {
            "marker": {
             "colorbar": {
              "outlinewidth": 0,
              "ticks": ""
             }
            },
            "type": "scatterternary"
           }
          ],
          "surface": [
           {
            "colorbar": {
             "outlinewidth": 0,
             "ticks": ""
            },
            "colorscale": [
             [
              0,
              "#0d0887"
             ],
             [
              0.1111111111111111,
              "#46039f"
             ],
             [
              0.2222222222222222,
              "#7201a8"
             ],
             [
              0.3333333333333333,
              "#9c179e"
             ],
             [
              0.4444444444444444,
              "#bd3786"
             ],
             [
              0.5555555555555556,
              "#d8576b"
             ],
             [
              0.6666666666666666,
              "#ed7953"
             ],
             [
              0.7777777777777778,
              "#fb9f3a"
             ],
             [
              0.8888888888888888,
              "#fdca26"
             ],
             [
              1,
              "#f0f921"
             ]
            ],
            "type": "surface"
           }
          ],
          "table": [
           {
            "cells": {
             "fill": {
              "color": "#EBF0F8"
             },
             "line": {
              "color": "white"
             }
            },
            "header": {
             "fill": {
              "color": "#C8D4E3"
             },
             "line": {
              "color": "white"
             }
            },
            "type": "table"
           }
          ]
         },
         "layout": {
          "annotationdefaults": {
           "arrowcolor": "#2a3f5f",
           "arrowhead": 0,
           "arrowwidth": 1
          },
          "autotypenumbers": "strict",
          "coloraxis": {
           "colorbar": {
            "outlinewidth": 0,
            "ticks": ""
           }
          },
          "colorscale": {
           "diverging": [
            [
             0,
             "#8e0152"
            ],
            [
             0.1,
             "#c51b7d"
            ],
            [
             0.2,
             "#de77ae"
            ],
            [
             0.3,
             "#f1b6da"
            ],
            [
             0.4,
             "#fde0ef"
            ],
            [
             0.5,
             "#f7f7f7"
            ],
            [
             0.6,
             "#e6f5d0"
            ],
            [
             0.7,
             "#b8e186"
            ],
            [
             0.8,
             "#7fbc41"
            ],
            [
             0.9,
             "#4d9221"
            ],
            [
             1,
             "#276419"
            ]
           ],
           "sequential": [
            [
             0,
             "#0d0887"
            ],
            [
             0.1111111111111111,
             "#46039f"
            ],
            [
             0.2222222222222222,
             "#7201a8"
            ],
            [
             0.3333333333333333,
             "#9c179e"
            ],
            [
             0.4444444444444444,
             "#bd3786"
            ],
            [
             0.5555555555555556,
             "#d8576b"
            ],
            [
             0.6666666666666666,
             "#ed7953"
            ],
            [
             0.7777777777777778,
             "#fb9f3a"
            ],
            [
             0.8888888888888888,
             "#fdca26"
            ],
            [
             1,
             "#f0f921"
            ]
           ],
           "sequentialminus": [
            [
             0,
             "#0d0887"
            ],
            [
             0.1111111111111111,
             "#46039f"
            ],
            [
             0.2222222222222222,
             "#7201a8"
            ],
            [
             0.3333333333333333,
             "#9c179e"
            ],
            [
             0.4444444444444444,
             "#bd3786"
            ],
            [
             0.5555555555555556,
             "#d8576b"
            ],
            [
             0.6666666666666666,
             "#ed7953"
            ],
            [
             0.7777777777777778,
             "#fb9f3a"
            ],
            [
             0.8888888888888888,
             "#fdca26"
            ],
            [
             1,
             "#f0f921"
            ]
           ]
          },
          "colorway": [
           "#636efa",
           "#EF553B",
           "#00cc96",
           "#ab63fa",
           "#FFA15A",
           "#19d3f3",
           "#FF6692",
           "#B6E880",
           "#FF97FF",
           "#FECB52"
          ],
          "font": {
           "color": "#2a3f5f"
          },
          "geo": {
           "bgcolor": "white",
           "lakecolor": "white",
           "landcolor": "#E5ECF6",
           "showlakes": true,
           "showland": true,
           "subunitcolor": "white"
          },
          "hoverlabel": {
           "align": "left"
          },
          "hovermode": "closest",
          "mapbox": {
           "style": "light"
          },
          "paper_bgcolor": "white",
          "plot_bgcolor": "#E5ECF6",
          "polar": {
           "angularaxis": {
            "gridcolor": "white",
            "linecolor": "white",
            "ticks": ""
           },
           "bgcolor": "#E5ECF6",
           "radialaxis": {
            "gridcolor": "white",
            "linecolor": "white",
            "ticks": ""
           }
          },
          "scene": {
           "xaxis": {
            "backgroundcolor": "#E5ECF6",
            "gridcolor": "white",
            "gridwidth": 2,
            "linecolor": "white",
            "showbackground": true,
            "ticks": "",
            "zerolinecolor": "white"
           },
           "yaxis": {
            "backgroundcolor": "#E5ECF6",
            "gridcolor": "white",
            "gridwidth": 2,
            "linecolor": "white",
            "showbackground": true,
            "ticks": "",
            "zerolinecolor": "white"
           },
           "zaxis": {
            "backgroundcolor": "#E5ECF6",
            "gridcolor": "white",
            "gridwidth": 2,
            "linecolor": "white",
            "showbackground": true,
            "ticks": "",
            "zerolinecolor": "white"
           }
          },
          "shapedefaults": {
           "line": {
            "color": "#2a3f5f"
           }
          },
          "ternary": {
           "aaxis": {
            "gridcolor": "white",
            "linecolor": "white",
            "ticks": ""
           },
           "baxis": {
            "gridcolor": "white",
            "linecolor": "white",
            "ticks": ""
           },
           "bgcolor": "#E5ECF6",
           "caxis": {
            "gridcolor": "white",
            "linecolor": "white",
            "ticks": ""
           }
          },
          "title": {
           "x": 0.05
          },
          "xaxis": {
           "automargin": true,
           "gridcolor": "white",
           "linecolor": "white",
           "ticks": "",
           "title": {
            "standoff": 15
           },
           "zerolinecolor": "white",
           "zerolinewidth": 2
          },
          "yaxis": {
           "automargin": true,
           "gridcolor": "white",
           "linecolor": "white",
           "ticks": "",
           "title": {
            "standoff": 15
           },
           "zerolinecolor": "white",
           "zerolinewidth": 2
          }
         }
        },
        "title": {
         "text": "AVERAGE TRANSACTION COUNT"
        },
        "width": 1000,
        "xaxis": {
         "anchor": "y",
         "domain": [
          0,
          1
         ],
         "title": {
          "text": "transaction_count"
         }
        },
        "yaxis": {
         "anchor": "x",
         "domain": [
          0,
          1
         ],
         "title": {
          "text": "states"
         }
        }
       }
      }
     },
     "metadata": {},
     "output_type": "display_data"
    }
   ],
   "source": [
    "top_chart_transaction_count(\"aggregated_insurance\")"
   ]
  },
  {
   "cell_type": "code",
   "execution_count": null,
   "metadata": {},
   "outputs": [],
   "source": []
  },
  {
   "cell_type": "code",
   "execution_count": null,
   "metadata": {},
   "outputs": [],
   "source": [
    "#Transaction quarter based\n",
    "def Transaction_amount_count_Y(df, year):\n",
    "    tacy=df[df[\"Years\"]== year]\n",
    "    tacy.reset_index(drop=True,inplace=True)\n",
    "\n",
    "    tacyg= tacy.groupby(\"States\")[[\"Transaction_count\",\"Transaction_amount\"]].sum()\n",
    "    tacyg.reset_index(inplace=True)\n",
    "\n",
    "\n",
    "    fig_amount = px.bar(tacyg, x=\"States\",y=\"Transaction_amount\", title=f\"{year} TRANSACTION AMOUNT\",\n",
    "                        color_discrete_sequence=px.colors.sequential.Agsunset)\n",
    "    fig_amount.show()\n",
    "\n",
    "\n",
    "    fig_count = px.bar(tacyg, x=\"States\",y=\"Transaction_count\", title=f\"{year} TRANSACTION COUNT\",\n",
    "                        color_discrete_sequence=px.colors.sequential.Bluered_r)\n",
    "    fig_count.show()\n",
    "\n",
    "\n",
    "    url=\"https://gist.githubusercontent.com/jbrobst/56c13bbbf9d97d187fea01ca62ea5112/raw/e388c4cae20aa53cb5090210a42ebb9b765c0a36/india_states.geojson\"\n",
    "    response =requests.get(url)\n",
    "    data1=json.loads(response.content)\n",
    "    states_name=[]\n",
    "    for feature in data1[\"features\"]:\n",
    "        states_name.append(feature[\"properties\"][\"ST_NM\"])\n",
    "\n",
    "    states_name.sort()\n",
    "\n",
    "    fig_india_1=px.choropleth(tacyg, geojson=data1, locations= \"States\", featureidkey= \"properties.ST_NM\", \n",
    "                              color=\"Transaction_amount\", color_continuous_scale=\"Rainbow\", \n",
    "                               range_color=(tacyg[\"Transaction_amount\"].min(), tacyg[\"Transaction_amount\"].max() ),\n",
    "                               hover_name=\"States\", title=f\"{year} TRANSACTION AMOUNT\", fitbounds= \"locations\",\n",
    "                               height=600,width=600)\n",
    "    fig_india_1.update_geos(visible=False)\n",
    "    fig_india_1.show()\n",
    "\n",
    "    fig_india_2=px.choropleth(tacyg, geojson=data1, locations= \"States\", featureidkey= \"properties.ST_NM\", \n",
    "                              color=\"Transaction_count\", color_continuous_scale=\"Rainbow\", \n",
    "                               range_color=(tacyg[\"Transaction_count\"].min(), tacyg[\"Transaction_count\"].max() ),\n",
    "                               hover_name=\"States\", title=f\"{year} TRANSACTION COUNT\", fitbounds= \"locations\",\n",
    "                               height=600,width=600)\n",
    "    fig_india_2.update_geos(visible=False)\n",
    "    fig_india_2.show()\n",
    "\n",
    "    return tacy\n",
    "\n"
   ]
  },
  {
   "cell_type": "code",
   "execution_count": null,
   "metadata": {},
   "outputs": [],
   "source": [
    "#Transaction quarter based\n",
    "\n",
    "\n",
    "def Transaction_amount_count_Y_Q(df, quarter):\n",
    "    tacy=df[df[\"Quarters\"] == quarter]\n",
    "    tacy.reset_index(drop=True,inplace=True)\n",
    "\n",
    "    tacyg= tacy.groupby(\"States\")[[\"Transaction_count\",\"Transaction_amount\"]].sum()\n",
    "    tacyg.reset_index(inplace=True)\n",
    "\n",
    "\n",
    "    fig_amount = px.bar(tacyg, x=\"States\",y=\"Transaction_amount\", title=f\"{tacy[\"Years\"].min()} YEAR {quarter} QUARTER TRANSACTION AMOUNT\",\n",
    "                        color_discrete_sequence=px.colors.sequential.Agsunset)\n",
    "    fig_amount.show()\n",
    "\n",
    "\n",
    "    fig_count = px.bar(tacyg, x=\"States\",y=\"Transaction_count\", title=f\"{tacy[\"Years\"].min()} YEAR {quarter} QUARTER TRANSACTION COUNT\",\n",
    "                        color_discrete_sequence=px.colors.sequential.Bluered_r)\n",
    "    fig_count.show()\n",
    "\n",
    "\n",
    "    url=\"https://gist.githubusercontent.com/jbrobst/56c13bbbf9d97d187fea01ca62ea5112/raw/e388c4cae20aa53cb5090210a42ebb9b765c0a36/india_states.geojson\"\n",
    "    response =requests.get(url)\n",
    "    data1=json.loads(response.content)\n",
    "    states_name=[]\n",
    "    for feature in data1[\"features\"]:\n",
    "        states_name.append(feature[\"properties\"][\"ST_NM\"])\n",
    "\n",
    "    states_name.sort()\n",
    "\n",
    "    fig_india_1=px.choropleth(tacyg, geojson=data1, locations= \"States\", featureidkey= \"properties.ST_NM\", \n",
    "                              color=\"Transaction_amount\", color_continuous_scale=\"Rainbow\", \n",
    "                               range_color=(tacyg[\"Transaction_amount\"].min(), tacyg[\"Transaction_amount\"].max() ),\n",
    "                               hover_name=\"States\", title=f\"{tacy[\"Years\"].min()} YEAR {quarter} QUARTER TRANSACTION AMOUNT\", fitbounds= \"locations\",\n",
    "                               height=600,width=600)\n",
    "    fig_india_1.update_geos(visible=False)\n",
    "    fig_india_1.show()\n",
    "\n",
    "    fig_india_2=px.choropleth(tacyg, geojson=data1, locations= \"States\", featureidkey= \"properties.ST_NM\", \n",
    "                              color=\"Transaction_count\", color_continuous_scale=\"Rainbow\", \n",
    "                               range_color=(tacyg[\"Transaction_count\"].min(), tacyg[\"Transaction_count\"].max() ),\n",
    "                               hover_name=\"States\", title=f\"{tacy[\"Years\"].min()} YEAR {quarter} QUARTER TRANSACTION COUNT\", fitbounds= \"locations\",\n",
    "                               height=600,width=600)\n",
    "    fig_india_2.update_geos(visible=False)\n",
    "    fig_india_2.show()\n",
    "\n",
    "    return tacy\n",
    "\n",
    "  "
   ]
  },
  {
   "cell_type": "code",
   "execution_count": null,
   "metadata": {},
   "outputs": [],
   "source": [
    "# trasaction type\n",
    "\n",
    "def Aggre_Tran_Transaction_type(df, state):\n",
    "\n",
    "\n",
    "    tacy=df[df[\"States\"] == state]\n",
    "    tacy.reset_index(drop=True,inplace=True)\n",
    "\n",
    "    tacyg= tacy.groupby(\"Transaction_type\")[[\"Transaction_count\",\"Transaction_amount\"]].sum()\n",
    "    tacyg.reset_index(inplace=True)\n",
    "\n",
    "    fig_pie_1=px.pie(data_frame = tacyg, names=\"Transaction_type\", values=\"Transaction_amount\", \n",
    "                        width=600, title=f\"{state.upper()} TRANSACTION AMOUNT\", hole= 0.5)\n",
    "\n",
    "    fig_pie_1.show()\n",
    "\n",
    "    fig_pie_2=px.pie(data_frame = tacyg, names=\"Transaction_type\", values=\"Transaction_count\", \n",
    "                        width=600, title=f\"{state.upper()} TRANSACTION COUNT\", hole= 0.5)\n",
    "\n",
    "    fig_pie_2.show()\n",
    "\n"
   ]
  },
  {
   "cell_type": "code",
   "execution_count": null,
   "metadata": {},
   "outputs": [],
   "source": [
    "# aggregated user analysis 1\n",
    "\n",
    "def Aggre_user_plot_1(df, year):\n",
    "\n",
    "    aguy=df[df[\"Years\"]== year]\n",
    "    aguy.reset_index(drop=True,inplace=True)\n",
    "   \n",
    "\n",
    "    aguyg=pd.DataFrame(aguy.groupby(\"Brands\")[\"Transaction_count\"].sum())\n",
    "    aguyg.reset_index(inplace=True)\n",
    "\n",
    "\n",
    "    fig_bar_1= px.bar(aguyg,x=\"Brands\",y=\"Transaction_count\", title=f\"{year} BRANDS AND TRANSACTION COUNT\", \n",
    "                    width=1000, color_discrete_sequence=px.colors.sequential.haline , hover_name=\"Brands\")\n",
    "\n",
    "    fig_bar_1.show()\n",
    "\n",
    "    return aguy"
   ]
  },
  {
   "cell_type": "code",
   "execution_count": null,
   "metadata": {},
   "outputs": [],
   "source": [
    "# aggregated user analysis 2\n",
    "\n",
    "def Aggre_user_plot_2(df,quarter):\n",
    "    aguyq=df[df[\"Quarters\"]== quarter]\n",
    "    aguyq.reset_index(drop=True,inplace=True)\n",
    "\n",
    "    aguyqg=pd.DataFrame(aguyq.groupby(\"Brands\")[\"Transaction_count\"].sum())\n",
    "    aguyqg.reset_index(inplace=True)\n",
    "\n",
    "    fig_bar_1= px.bar(aguyqg,x=\"Brands\",y=\"Transaction_count\", title= f\" {quarter} QUARTER BRANDS AND TRANSACTION COUNT\", \n",
    "                        width=1000, color_discrete_sequence=px.colors.sequential.haline , hover_name=\"Brands\")\n",
    "\n",
    "    fig_bar_1.show()\n",
    "\n",
    "    return aguyq"
   ]
  },
  {
   "cell_type": "code",
   "execution_count": null,
   "metadata": {},
   "outputs": [],
   "source": [
    "# aggregate user analysis 3\n",
    "\n",
    "def Aggre_user_plot_3(df, state):\n",
    "    auyqs=df[df[\"States\"]== state]\n",
    "    auyqs.reset_index(drop=True,inplace=True)\n",
    "\n",
    "    fig_line_1= px.line(auyqs,x=\"Brands\", y=\"Transaction_count\", hover_data=\"Percentage\", \n",
    "                        title=f\"{state.upper()}BRANDS , TRANSACTION COUNT, PERCENTAGE\", width=1000 , markers=True)\n",
    "\n",
    "    fig_line_1.show()"
   ]
  },
  {
   "cell_type": "code",
   "execution_count": null,
   "metadata": {},
   "outputs": [],
   "source": [
    "# Map insurance district\n",
    "\n",
    "def Map_insur_District(df, state):\n",
    "\n",
    "\n",
    "    tacy=df[df[\"States\"] == state]\n",
    "    tacy.reset_index(drop=True,inplace=True)\n",
    "\n",
    "    tacyg= tacy.groupby(\"Districts\")[[\"Transaction_count\",\"Transaction_amount\"]].sum()\n",
    "    tacyg.reset_index(inplace=True)\n",
    "\n",
    "    \n",
    "    fig_bar_1= px.bar(tacyg,x=\"Transaction_amount\", y=\"Districts\", orientation= \"h\",\n",
    "                      title=f\"{state.upper()} DISTRICT AND TRANSACTION AMOUNT\",\n",
    "                      color_discrete_sequence=px.colors.sequential.Blackbody_r)\n",
    "\n",
    "    fig_bar_1.show()\n",
    "\n",
    "    fig_bar_2= px.bar(tacyg,x=\"Transaction_count\", y=\"Districts\", orientation= \"h\",\n",
    "                      title=f\"{state.upper()} DISTRICT AND TRANSACTION COUNT\",\n",
    "                      color_discrete_sequence=px.colors.sequential.Blackbody_r)\n",
    "\n",
    "    fig_bar_2.show()\n",
    "\n",
    "    return tacy\n",
    "\n",
    "    "
   ]
  },
  {
   "cell_type": "code",
   "execution_count": null,
   "metadata": {},
   "outputs": [],
   "source": [
    "# MAP USER PLOT 1\n",
    "\n",
    "def map_user_plot_1(df,year):\n",
    "\n",
    "    muy=df[df[\"Years\"]== year]\n",
    "    muy.reset_index(drop=True,inplace=True)\n",
    "\n",
    "\n",
    "    muyg=pd.DataFrame(muy.groupby(\"States\")[[\"RegisteredUsers\",\"AppOpens\"]].sum())\n",
    "    muyg.reset_index(inplace=True)\n",
    "\n",
    "    fig_line_1= px.line(muyg, x=\"States\", y=[\"RegisteredUsers\",\"AppOpens\"],  \n",
    "                            title=f\"{year} REGISTER USER AND APP OPENS\", width=1000 ,height=800, markers=True)\n",
    "\n",
    "    fig_line_1.show()\n",
    "\n",
    "    return muy\n"
   ]
  },
  {
   "cell_type": "code",
   "execution_count": null,
   "metadata": {},
   "outputs": [],
   "source": [
    "\n",
    "# MAP USER PLOT 2\n",
    "\n",
    "def map_user_plot_2(df,quarter):\n",
    "\n",
    "    muyq=df[df[\"Quarters\"]== quarter]\n",
    "    muyq.reset_index(drop=True,inplace=True)\n",
    "\n",
    "\n",
    "    muyqg=muyq.groupby(\"States\")[[\"RegisteredUsers\",\"AppOpens\"]].sum()\n",
    "    muyqg.reset_index(inplace=True)\n",
    "\n",
    "    fig_line_1= px.line(muyqg, x=\"States\", y=[\"RegisteredUsers\",\"AppOpens\"],  \n",
    "                            title=f\"{df['Years'].min()} YEAR {quarter} QUARTER REGISTER USER AND APP OPENS\", width=1000 ,height=800, markers=True, \n",
    "                            color_discrete_sequence=px.colors.sequential.Rainbow)\n",
    "\n",
    "    fig_line_1.show()\n",
    "\n",
    "    return muyq"
   ]
  },
  {
   "cell_type": "code",
   "execution_count": null,
   "metadata": {},
   "outputs": [],
   "source": [
    "# map user plot 3\n",
    "def map_user_plot_3(df, states):\n",
    "    muyqs=df[df[\"States\"]== states]\n",
    "    muyqs.reset_index(drop=True,inplace=True)\n",
    "\n",
    "    fig_map_user_bar_1=px.bar(muyqs, x=\"RegisteredUsers\", y=\"Districts\" , orientation=\"h\",\n",
    "                            title=\"REGISTERd USER\", height=800 , color_discrete_sequence= px.colors.sequential.Agsunset )\n",
    "\n",
    "    fig_map_user_bar_1.show()\n",
    "\n",
    "    fig_map_user_bar_2=px.bar(muyqs, x=\"AppOpens\", y=\"Districts\" , orientation=\"h\",\n",
    "                            title=\"APPS OPEN\", height=800 , color_discrete_sequence= px.colors.sequential.Agsunset )\n",
    "\n",
    "    fig_map_user_bar_2.show()\n"
   ]
  },
  {
   "cell_type": "code",
   "execution_count": null,
   "metadata": {},
   "outputs": [],
   "source": [
    "# Top insurance plot 1\n",
    "def Top_insurance_plot_1(df, state):\n",
    "    tiy=df[df[\"States\"]== state]\n",
    "    tiy.reset_index(drop=True,inplace=True)\n",
    "\n",
    "    tiyg=tiy.groupby(\"Pincodes\")[[\"Transaction_amount\",\"Transaction_count\"]].sum()\n",
    "    tiyg.reset_index(inplace=True)\n",
    "\n",
    "    fig_top_insur_bar_1=px.bar(tiy, x=\"Quarters\", y=\"Transaction_amount\" , hover_data= \"Pincodes\",\n",
    "                                title=\"TRANSACTION AMOUNT\", height=800 , color_discrete_sequence= px.colors.sequential.GnBu_r)\n",
    "\n",
    "    fig_top_insur_bar_1.show()\n",
    "\n",
    "    fig_top_insur_bar_2=px.bar(tiy, x=\"Quarters\", y=\"Transaction_count\" , hover_data= \"Pincodes\",\n",
    "                                title=\"TRANSACTION COUNT\", height=800 , color_discrete_sequence= px.colors.sequential.GnBu_r)\n",
    "\n",
    "    fig_top_insur_bar_2.show()"
   ]
  },
  {
   "cell_type": "code",
   "execution_count": null,
   "metadata": {},
   "outputs": [],
   "source": [
    "# top user plot 2\n",
    "def top_user_plot_1(df,year):\n",
    "    tuy=df[df[\"Years\"]== year]\n",
    "    tuy.reset_index(drop=True,inplace=True)\n",
    "\n",
    "\n",
    "    tuyg=pd.DataFrame(tuy.groupby([\"States\",\"Quarters\"])[\"RegisteredUsers\"].sum())\n",
    "    tuyg.reset_index(inplace=True)\n",
    "\n",
    "    fig_top_plot_1=px.bar(tuy, x=\"States\", y=\"RegisteredUsers\" , color= \"Quarters\", hover_name=\"States\",\n",
    "                                    title=f\"{year} REGISTERED USERS\",height=800 ,width=1000, color_discrete_sequence= px.colors.sequential.Burgyl)\n",
    "\n",
    "    fig_top_plot_1.show()\n",
    "\n",
    "\n",
    "    return tuy"
   ]
  },
  {
   "cell_type": "code",
   "execution_count": null,
   "metadata": {},
   "outputs": [],
   "source": [
    "# top user plot 2\n",
    "def top_user_plot_2(df, state):\n",
    "    tuys= df[df[\"States\"]== state]\n",
    "    tuys.reset_index(drop=True,inplace=True)\n",
    "\n",
    "    fig_top_plot_2=px.bar(tuys,x=\"Quarters\", y=\"RegisteredUsers\", title=\"REGISTRATION, PINCODE, QUARTER\",\n",
    "                        width=1000, height=800, color=\"RegisteredUsers\", hover_data=\"Pincodes\",\n",
    "                        color_continuous_scale=px.colors.sequential.Magenta)\n",
    "    fig_top_plot_2.show()"
   ]
  },
  {
   "cell_type": "markdown",
   "metadata": {},
   "source": [
    "### Aggregated insurance\n"
   ]
  },
  {
   "cell_type": "code",
   "execution_count": null,
   "metadata": {},
   "outputs": [],
   "source": [
    "\n",
    "tac_Y=Transaction_amount_count_Y(aggregated_insurance,2021)\n"
   ]
  },
  {
   "cell_type": "code",
   "execution_count": null,
   "metadata": {},
   "outputs": [],
   "source": [
    "Transaction_amount_count_Y_Q(tac_Y, 3)"
   ]
  },
  {
   "cell_type": "markdown",
   "metadata": {},
   "source": [
    "### Aggregated transaction"
   ]
  },
  {
   "cell_type": "code",
   "execution_count": null,
   "metadata": {},
   "outputs": [],
   "source": [
    "Aggre_tran_tac_Y=Transaction_amount_count_Y(aggregated_transaction,2023)\n"
   ]
  },
  {
   "cell_type": "code",
   "execution_count": null,
   "metadata": {},
   "outputs": [],
   "source": [
    "Aggre_Tran_Transaction_type(Aggre_tran_tac_Y,  'Tamil Nadu')"
   ]
  },
  {
   "cell_type": "code",
   "execution_count": null,
   "metadata": {},
   "outputs": [],
   "source": [
    "Aggre_tran_tac_Y_Q=Transaction_amount_count_Y_Q(Aggre_tran_tac_Y, 3)"
   ]
  },
  {
   "cell_type": "code",
   "execution_count": null,
   "metadata": {},
   "outputs": [],
   "source": [
    "Aggre_Tran_Transaction_type(Aggre_tran_tac_Y_Q,  'Tamil Nadu')"
   ]
  },
  {
   "cell_type": "markdown",
   "metadata": {},
   "source": [
    "### Aggregated User"
   ]
  },
  {
   "cell_type": "code",
   "execution_count": null,
   "metadata": {},
   "outputs": [],
   "source": [
    "Aggre_user_Y = Aggre_user_plot_1(aggregated_user, 2020)"
   ]
  },
  {
   "cell_type": "code",
   "execution_count": null,
   "metadata": {},
   "outputs": [],
   "source": [
    "Aggre_user_Y_Q=Aggre_user_plot_2(Aggre_user_Y, 3)"
   ]
  },
  {
   "cell_type": "code",
   "execution_count": null,
   "metadata": {},
   "outputs": [],
   "source": [
    "Aggre_user_plot_3(Aggre_user_Y_Q, \"Andaman & Nicobar\")"
   ]
  },
  {
   "cell_type": "markdown",
   "metadata": {},
   "source": [
    "### MAP INSURANCE\n"
   ]
  },
  {
   "cell_type": "code",
   "execution_count": null,
   "metadata": {},
   "outputs": [],
   "source": [
    "Map_insur_tac_Y=Transaction_amount_count_Y(map_insurance,2023)"
   ]
  },
  {
   "cell_type": "code",
   "execution_count": null,
   "metadata": {},
   "outputs": [],
   "source": [
    "Map_insur_District(Map_insur_tac_Y,\"West Bengal\")"
   ]
  },
  {
   "cell_type": "code",
   "execution_count": null,
   "metadata": {},
   "outputs": [],
   "source": [
    "Map_insur_tac_Y_Q=Transaction_amount_count_Y_Q(Map_insur_tac_Y, 3)"
   ]
  },
  {
   "cell_type": "code",
   "execution_count": null,
   "metadata": {},
   "outputs": [],
   "source": [
    "Map_insur_District(Map_insur_tac_Y_Q,  'Tamil Nadu')"
   ]
  },
  {
   "cell_type": "code",
   "execution_count": null,
   "metadata": {},
   "outputs": [],
   "source": [
    "map_insurance"
   ]
  },
  {
   "cell_type": "markdown",
   "metadata": {},
   "source": [
    "### MAP TRANSACTION"
   ]
  },
  {
   "cell_type": "code",
   "execution_count": null,
   "metadata": {},
   "outputs": [],
   "source": [
    "Map_tran_tac_Y=Transaction_amount_count_Y(map_transaction,2023)"
   ]
  },
  {
   "cell_type": "code",
   "execution_count": null,
   "metadata": {},
   "outputs": [],
   "source": [
    "Map_insur_District(Map_tran_tac_Y,\"West Bengal\")"
   ]
  },
  {
   "cell_type": "code",
   "execution_count": null,
   "metadata": {},
   "outputs": [],
   "source": [
    "Map_tran_tac_Y_Q=Transaction_amount_count_Y_Q(Map_tran_tac_Y, 3)"
   ]
  },
  {
   "cell_type": "code",
   "execution_count": null,
   "metadata": {},
   "outputs": [],
   "source": [
    "Map_insur_District(Map_tran_tac_Y_Q,  'Tamil Nadu')"
   ]
  },
  {
   "cell_type": "code",
   "execution_count": null,
   "metadata": {},
   "outputs": [],
   "source": [
    "map_transaction"
   ]
  },
  {
   "cell_type": "markdown",
   "metadata": {},
   "source": [
    "### MAP USER"
   ]
  },
  {
   "cell_type": "code",
   "execution_count": null,
   "metadata": {},
   "outputs": [],
   "source": [
    "Map_user_Y=map_user_plot_1(map_user,2020)"
   ]
  },
  {
   "cell_type": "code",
   "execution_count": null,
   "metadata": {},
   "outputs": [],
   "source": [
    "Map_user_Y"
   ]
  },
  {
   "cell_type": "code",
   "execution_count": null,
   "metadata": {},
   "outputs": [],
   "source": [
    "Map_user_Y_Q=map_user_plot_2(Map_user_Y,2)"
   ]
  },
  {
   "cell_type": "code",
   "execution_count": null,
   "metadata": {},
   "outputs": [],
   "source": [
    "map_user"
   ]
  },
  {
   "cell_type": "markdown",
   "metadata": {},
   "source": [
    "# TOP INSURANCW"
   ]
  },
  {
   "cell_type": "code",
   "execution_count": null,
   "metadata": {},
   "outputs": [],
   "source": [
    "Top_insur_tac_Y=Transaction_amount_count_Y(top_insurance,2023)"
   ]
  },
  {
   "cell_type": "code",
   "execution_count": null,
   "metadata": {},
   "outputs": [],
   "source": [
    "Top_insurance_plot_1(Top_insur_tac_Y, \"West Bengal\")"
   ]
  },
  {
   "cell_type": "code",
   "execution_count": null,
   "metadata": {},
   "outputs": [],
   "source": [
    "Top_insur_tac_Y_Q=Transaction_amount_count_Y_Q(Top_insur_tac_Y, 3)"
   ]
  },
  {
   "cell_type": "code",
   "execution_count": null,
   "metadata": {},
   "outputs": [],
   "source": [
    "Top_insur_tac_Y"
   ]
  },
  {
   "cell_type": "code",
   "execution_count": null,
   "metadata": {},
   "outputs": [],
   "source": [
    "top_insurance"
   ]
  },
  {
   "cell_type": "markdown",
   "metadata": {},
   "source": [
    "### TOP Transaction\n"
   ]
  },
  {
   "cell_type": "code",
   "execution_count": null,
   "metadata": {},
   "outputs": [],
   "source": [
    "Top_tran_tac_Y=Transaction_amount_count_Y(top_transaction,2023)"
   ]
  },
  {
   "cell_type": "code",
   "execution_count": null,
   "metadata": {},
   "outputs": [],
   "source": [
    "Top_insurance_plot_1(Top_tran_tac_Y, \"West Bengal\")"
   ]
  },
  {
   "cell_type": "code",
   "execution_count": null,
   "metadata": {},
   "outputs": [],
   "source": [
    "Top_tran_tac_Y_Q=Transaction_amount_count_Y_Q(Top_tran_tac_Y,3)"
   ]
  },
  {
   "cell_type": "code",
   "execution_count": null,
   "metadata": {},
   "outputs": [],
   "source": [
    "top_transaction"
   ]
  },
  {
   "cell_type": "markdown",
   "metadata": {},
   "source": [
    "### TOP User"
   ]
  },
  {
   "cell_type": "code",
   "execution_count": null,
   "metadata": {},
   "outputs": [],
   "source": [
    "\n"
   ]
  },
  {
   "cell_type": "code",
   "execution_count": null,
   "metadata": {},
   "outputs": [],
   "source": [
    "Top_user_Y=top_user_plot_1(top_user,2021)"
   ]
  },
  {
   "cell_type": "code",
   "execution_count": null,
   "metadata": {},
   "outputs": [],
   "source": [
    "Top_user_Y_Q=top_user_plot_2(Top_user_Y,\"Tamil Nadu\")"
   ]
  },
  {
   "cell_type": "code",
   "execution_count": null,
   "metadata": {},
   "outputs": [],
   "source": [
    "top_user"
   ]
  },
  {
   "cell_type": "code",
   "execution_count": null,
   "metadata": {},
   "outputs": [],
   "source": []
  }
 ],
 "metadata": {
  "kernelspec": {
   "display_name": ".venv",
   "language": "python",
   "name": "python3"
  },
  "language_info": {
   "codemirror_mode": {
    "name": "ipython",
    "version": 3
   },
   "file_extension": ".py",
   "mimetype": "text/x-python",
   "name": "python",
   "nbconvert_exporter": "python",
   "pygments_lexer": "ipython3",
   "version": "3.12.4"
  }
 },
 "nbformat": 4,
 "nbformat_minor": 2
}
